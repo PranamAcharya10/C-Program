{
  "nbformat": 4,
  "nbformat_minor": 0,
  "metadata": {
    "colab": {
      "provenance": [],
      "include_colab_link": true
    },
    "kernelspec": {
      "name": "python3",
      "display_name": "Python 3"
    },
    "language_info": {
      "name": "python"
    }
  },
  "cells": [
    {
      "cell_type": "markdown",
      "metadata": {
        "id": "view-in-github",
        "colab_type": "text"
      },
      "source": [
        "<a href=\"https://colab.research.google.com/github/PranamAcharya10/C-Program/blob/main/Kruskals_MST.ipynb\" target=\"_parent\"><img src=\"https://colab.research.google.com/assets/colab-badge.svg\" alt=\"Open In Colab\"/></a>"
      ]
    },
    {
      "cell_type": "code",
      "execution_count": null,
      "metadata": {
        "colab": {
          "base_uri": "https://localhost:8080/"
        },
        "id": "QTHDzvyhgGac",
        "outputId": "55b8a22f-37ce-42d7-b8cc-7d9b62ba2a79"
      },
      "outputs": [
        {
          "output_type": "stream",
          "name": "stdout",
          "text": [
            "Edges in the constructed MST\n",
            "2 -- 3 == 4\n",
            "0 -- 3 == 5\n",
            "0 -- 1 == 10\n",
            "Minimum Spanning Tree 19\n"
          ]
        }
      ],
      "source": [
        "# Function to find set of an element i (uses path compression)\n",
        "def find(parent, i):\n",
        "    if parent[i] != i:\n",
        "        parent[i] = find(parent, parent[i])\n",
        "    return parent[i]\n",
        "\n",
        "# Function to do union of two sets of x and y (uses union by rank)\n",
        "def union(parent, rank, x, y):\n",
        "    if rank[x] < rank[y]:\n",
        "        parent[x] = y\n",
        "    elif rank[x] > rank[y]:\n",
        "        parent[y] = x\n",
        "    else:\n",
        "        parent[y] = x\n",
        "        rank[x] += 1\n",
        "\n",
        "# Function to perform Kruskal's algorithm\n",
        "def kruskal(vertices, edges):\n",
        "    result = []  # Store the resultant MST\n",
        "    i = 0  # Index variable for sorted edges\n",
        "    e = 0  # Index variable for result[]\n",
        "\n",
        "    # Sort all the edges in non-decreasing order of their weight\n",
        "    edges = sorted(edges, key=lambda item: item[2])\n",
        "\n",
        "    parent = []\n",
        "    rank = []\n",
        "\n",
        "    # Create V subsets with single elements\n",
        "    for node in range(vertices):\n",
        "        parent.append(node)\n",
        "        rank.append(0)\n",
        "\n",
        "    # Number of edges to be taken is less than V-1\n",
        "    while e < vertices - 1:\n",
        "        # Pick the smallest edge and increment the index for next iteration\n",
        "        u, v, w = edges[i]\n",
        "        i += 1\n",
        "        x = find(parent, u)\n",
        "        y = find(parent, v)\n",
        "\n",
        "        # If including this edge doesn't cause a cycle, include it in result\n",
        "        if x != y:\n",
        "            e += 1\n",
        "            result.append([u, v, w])\n",
        "            union(parent, rank, x, y)\n",
        "\n",
        "    minimumCost = 0\n",
        "    print(\"Edges in the constructed MST\")\n",
        "    for u, v, weight in result:\n",
        "        minimumCost += weight\n",
        "        print(f\"{u} -- {v} == {weight}\")\n",
        "    print(\"Minimum Spanning Tree\", minimumCost)\n",
        "\n",
        "# Driver code\n",
        "if __name__ == '__main__':\n",
        "    vertices = 4\n",
        "    edges = [\n",
        "        (0, 1, 10),\n",
        "        (0, 2, 6),\n",
        "        (0, 3, 5),\n",
        "        (1, 3, 15),\n",
        "        (2, 3, 4)\n",
        "    ]\n",
        "\n",
        "    # Function call\n",
        "    kruskal(vertices, edges)\n"
      ]
    }
  ]
}