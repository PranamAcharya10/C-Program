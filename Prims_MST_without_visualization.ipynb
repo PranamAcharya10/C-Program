{
  "cells": [
    {
      "cell_type": "markdown",
      "metadata": {
        "id": "view-in-github",
        "colab_type": "text"
      },
      "source": [
        "<a href=\"https://colab.research.google.com/github/PranamAcharya10/C-Program/blob/main/Prims_MST_without_visualization.ipynb\" target=\"_parent\"><img src=\"https://colab.research.google.com/assets/colab-badge.svg\" alt=\"Open In Colab\"/></a>"
      ]
    },
    {
      "cell_type": "code",
      "execution_count": null,
      "metadata": {
        "colab": {
          "base_uri": "https://localhost:8080/"
        },
        "id": "JpcEW85thaYV",
        "outputId": "0952ad50-63a8-4b8a-ae59-6f72a2925e30"
      },
      "outputs": [
        {
          "output_type": "stream",
          "name": "stdout",
          "text": [
            "Edge \tWeight\n",
            "0 - 1 \t 2\n",
            "0 - 2 \t 4\n",
            "1 - 3 \t 3\n",
            "3 - 4 \t 2\n",
            "Total cost of MST: 11\n"
          ]
        }
      ],
      "source": [
        "import sys\n",
        "\n",
        "# Function to print the constructed MST stored in parent[]\n",
        "def printMST(parent, graph):\n",
        "    print(\"Edge \\tWeight\")\n",
        "    total_cost = 0\n",
        "    #Iterate through all vertices in the graph\n",
        "    for i in range(1, len(graph)):\n",
        "        # Check if parent[i] is not None before accessing graph\n",
        "        if parent[i] is not None:\n",
        "            print(parent[i], \"-\", i, \"\\t\", graph[i][parent[i]])\n",
        "            total_cost += graph[i][parent[i]]\n",
        "    print(\"Total cost of MST:\", total_cost)\n",
        "\n",
        "\n",
        "\n",
        "#Function to find the vertex with the minimum key value\n",
        "# from the set of vertices not yet included in the MST\n",
        "def minKey(key, mstSet, V):\n",
        "    min_val = sys.maxsize\n",
        "    min_index = -1\n",
        "\n",
        "    for v in range(V):\n",
        "        if key[v] < min_val and not mstSet[v]:\n",
        "            min_val = key[v]\n",
        "            min_index = v\n",
        "\n",
        "    return min_index\n",
        "\n",
        "\n",
        "# Function to construct and print MST for a graph represented\n",
        "# using adjacency matrix representation\n",
        "def primMST(graph):\n",
        "    V = len(graph)  # Number of vertices in the graph\n",
        "\n",
        "    key = [sys.maxsize] * V  # Values used to pick the minimum weight edge\n",
        "    parent = [None] * V  # Array to store the MST\n",
        "    mstSet = [False] * V  # Boolean array to track included vertices in MST\n",
        "\n",
        "    key[0] = 0  # Initialize the key of the first vertex as 0\n",
        "    parent[0] = -1  # First vertex is always the root of the MST\n",
        "\n",
        "    for _ in range(V):\n",
        "        # Pick the vertex with the minimum key value not yet included in MST\n",
        "        u = minKey(key, mstSet, V)\n",
        "\n",
        "        # Include the picked vertex in the MST set\n",
        "        mstSet[u] = True\n",
        "\n",
        "        # Update the key value and parent index of adjacent vertices of the picked vertex\n",
        "        for v in range(V):\n",
        "            if graph[u][v] > 0 and not mstSet[v] and key[v] > graph[u][v]:\n",
        "                key[v] = graph[u][v]\n",
        "                parent[v] = u\n",
        "\n",
        "    # Print the constructed MST\n",
        "    printMST(parent, graph)\n",
        "\n",
        "# Driver's code\n",
        "#graph = [[0, 2, 0, 6, 0],\n",
        "#         [2, 0, 3, 8, 5],\n",
        "#         [0, 3, 0, 0, 7],\n",
        "#         [6, 8, 0, 0, 9],\n",
        "#         [0, 5, 7, 9, 0]]\n",
        "graph = [\n",
        "    [0, 2, 4, 0, 0],\n",
        "    [2, 0, 5, 3, 0],\n",
        "    [4, 5, 0, 0, 0],\n",
        "    [0, 3, 0, 0, 2],\n",
        "    [0, 0, 0, 2, 0]\n",
        "]\n",
        "\n",
        "\n",
        "    # Call the primMST function to find and print the MST\n",
        "primMST(graph)\n"
      ]
    }
  ],
  "metadata": {
    "colab": {
      "provenance": [],
      "include_colab_link": true
    },
    "kernelspec": {
      "display_name": "base",
      "language": "python",
      "name": "python3"
    },
    "language_info": {
      "codemirror_mode": {
        "name": "ipython",
        "version": 3
      },
      "file_extension": ".py",
      "mimetype": "text/x-python",
      "name": "python",
      "nbconvert_exporter": "python",
      "pygments_lexer": "ipython3",
      "version": "3.12.2"
    }
  },
  "nbformat": 4,
  "nbformat_minor": 0
}