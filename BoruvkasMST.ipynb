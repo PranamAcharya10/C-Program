#The find function locates the root of a set using path compression.
#This function finds the root of the set containing element i
#and applies path compression to optimize future queries.
def find(parent, i):
    if parent[i] == i:
        return i
    return find(parent, parent[i])

#The union function combines two sets based on their rank.
def union(parent, rank, x, y):
    xroot = find(parent, x)
    yroot = find(parent, y)

    if rank[xroot] < rank[yroot]:
        parent[xroot] = yroot
    elif rank[xroot] > rank[yroot]:
        parent[yroot] = xroot
    else:
        parent[yroot] = xroot
        rank[xroot] += 1


#The boruvkaMST function executes the main Boruvka's algorithm
#to find the Minimum Spanning Tree (MST).
def boruvkaMST(graph, V):
    parent = []
    rank = []
    cheapest = []
    numTrees = V
    MSTweight = 0

    for node in range(V):
        parent.append(node)
        rank.append(0)
        cheapest.append(-1)

    while numTrees > 1:
        for i in range(len(graph)):
            u, v, w = graph[i]
            set1 = find(parent, u)
            set2 = find(parent, v)

            if set1 != set2:
                if cheapest[set1] == -1 or cheapest[set1][2] > w:
                    cheapest[set1] = (u, v, w)

                if cheapest[set2] == -1 or cheapest[set2][2] > w:
                    cheapest[set2] = (u, v, w)

        for node in range(V):
            if cheapest[node] != -1:
                u, v, w = cheapest[node]
                set1 = find(parent, u)
                set2 = find(parent, v)

                if set1 != set2:
                    MSTweight += w
                    union(parent, rank, set1, set2)
                    print(f"Edge {u}-{v} with weight {w} included in MST")
                    numTrees -= 1

        cheapest = [-1] * V

    print(f"Weight of MST is {MSTweight}")


# Example usage
V = 4
#The graph is represented as a list of edges where each edge is a tuple of (u, v, weight).
graph = [
    (0, 1, 10),
    (0, 2, 6),
    (0, 3, 5),
    (1, 3, 15),
    (2, 3, 4)
]

boruvkaMST(graph, V)
