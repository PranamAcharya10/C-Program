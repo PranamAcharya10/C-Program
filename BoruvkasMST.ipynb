{
  "nbformat": 4,
  "nbformat_minor": 0,
  "metadata": {
    "colab": {
      "provenance": [],
      "include_colab_link": true
    },
    "kernelspec": {
      "name": "python3",
      "display_name": "Python 3"
    },
    "language_info": {
      "name": "python"
    }
  },
  "cells": [
    {
      "cell_type": "markdown",
      "metadata": {
        "id": "view-in-github",
        "colab_type": "text"
      },
      "source": [
        "<a href=\"https://colab.research.google.com/github/PranamAcharya10/C-Program/blob/main/BoruvkasMST.ipynb\" target=\"_parent\"><img src=\"https://colab.research.google.com/assets/colab-badge.svg\" alt=\"Open In Colab\"/></a>"
      ]
    },
    {
      "cell_type": "code",
      "execution_count": null,
      "metadata": {
        "colab": {
          "base_uri": "https://localhost:8080/"
        },
        "id": "vd5OH4t2qbYe",
        "outputId": "03c0fa6c-6da6-4fb6-bce5-47d6a43cc267"
      },
      "outputs": [
        {
          "output_type": "stream",
          "name": "stdout",
          "text": [
            "Edge 0-3 with weight 5 included in MST\n",
            "Edge 0-1 with weight 10 included in MST\n",
            "Edge 2-3 with weight 4 included in MST\n",
            "Weight of MST is 19\n"
          ]
        }
      ],
      "source": [
        "#The find function locates the root of a set using path compression.\n",
        "#This function finds the root of the set containing element i\n",
        "#and applies path compression to optimize future queries.\n",
        "def find(parent, i):\n",
        "    if parent[i] == i:\n",
        "        return i\n",
        "    return find(parent, parent[i])\n",
        "\n",
        "#The union function combines two sets based on their rank.\n",
        "def union(parent, rank, x, y):\n",
        "    xroot = find(parent, x)\n",
        "    yroot = find(parent, y)\n",
        "\n",
        "    if rank[xroot] < rank[yroot]:\n",
        "        parent[xroot] = yroot\n",
        "    elif rank[xroot] > rank[yroot]:\n",
        "        parent[yroot] = xroot\n",
        "    else:\n",
        "        parent[yroot] = xroot\n",
        "        rank[xroot] += 1\n",
        "\n",
        "\n",
        "#The boruvkaMST function executes the main Boruvka's algorithm\n",
        "#to find the Minimum Spanning Tree (MST).\n",
        "def boruvkaMST(graph, V):\n",
        "    parent = []\n",
        "    rank = []\n",
        "    cheapest = []\n",
        "    numTrees = V\n",
        "    MSTweight = 0\n",
        "\n",
        "    for node in range(V):\n",
        "        parent.append(node)\n",
        "        rank.append(0)\n",
        "        cheapest.append(-1)\n",
        "\n",
        "    while numTrees > 1:\n",
        "        for i in range(len(graph)):\n",
        "            u, v, w = graph[i]\n",
        "            set1 = find(parent, u)\n",
        "            set2 = find(parent, v)\n",
        "\n",
        "            if set1 != set2:\n",
        "                if cheapest[set1] == -1 or cheapest[set1][2] > w:\n",
        "                    cheapest[set1] = (u, v, w)\n",
        "\n",
        "                if cheapest[set2] == -1 or cheapest[set2][2] > w:\n",
        "                    cheapest[set2] = (u, v, w)\n",
        "\n",
        "        for node in range(V):\n",
        "            if cheapest[node] != -1:\n",
        "                u, v, w = cheapest[node]\n",
        "                set1 = find(parent, u)\n",
        "                set2 = find(parent, v)\n",
        "\n",
        "                if set1 != set2:\n",
        "                    MSTweight += w\n",
        "                    union(parent, rank, set1, set2)\n",
        "                    print(f\"Edge {u}-{v} with weight {w} included in MST\")\n",
        "                    numTrees -= 1\n",
        "\n",
        "        cheapest = [-1] * V\n",
        "\n",
        "    print(f\"Weight of MST is {MSTweight}\")\n",
        "\n",
        "\n",
        "# Example usage\n",
        "V = 4\n",
        "#The graph is represented as a list of edges where each edge is a tuple of (u, v, weight).\n",
        "graph = [\n",
        "    (0, 1, 10),\n",
        "    (0, 2, 6),\n",
        "    (0, 3, 5),\n",
        "    (1, 3, 15),\n",
        "    (2, 3, 4)\n",
        "]\n",
        "\n",
        "boruvkaMST(graph, V)\n",
        "\n"
      ]
    }
  ]
}